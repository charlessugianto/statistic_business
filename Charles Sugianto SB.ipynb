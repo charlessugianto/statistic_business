{
 "cells": [
  {
   "cell_type": "code",
   "execution_count": 1,
   "id": "776beb25",
   "metadata": {},
   "outputs": [],
   "source": [
    "# Penjelasan detail terdapat dalam laporan medium\n",
    "# Statement\n",
    "import matplotlib.pyplot as plt\n",
    "import seaborn as sns\n",
    "from matplotlib.gridspec import GridSpec\n",
    "import pandas as pd\n",
    "import numpy as np\n",
    "from sklearn.base import BaseEstimator, RegressorMixin\n",
    "from sklearn.metrics import r2_score\n",
    "from sklearn.model_selection import cross_val_score, cross_validate, KFold\n",
    "import statsmodels.formula.api as smf\n",
    "import statsmodels.api as sm"
   ]
  },
  {
   "cell_type": "code",
   "execution_count": 2,
   "id": "9ae9e343",
   "metadata": {},
   "outputs": [],
   "source": [
    "import pandas as pd\n",
    "def print_coef_std_err(results):\n",
    "    \"\"\"\n",
    "    Function to combine estimated coefficients and standard error in one DataFrame\n",
    "    :param results: <statsmodels RegressionResultsWrapper> OLS regression results from statsmodel\n",
    "    :return df: <pandas DataFrame> combined estimated coefficient and standard error of model estimate\n",
    "    \"\"\"\n",
    "    df = pd.DataFrame({\"coef\": results.params, \"std err\": results.bse})\n",
    "    return df"
   ]
  },
  {
   "cell_type": "code",
   "execution_count": 3,
   "id": "df418277",
   "metadata": {},
   "outputs": [
    {
     "data": {
      "text/html": [
       "<div>\n",
       "<style scoped>\n",
       "    .dataframe tbody tr th:only-of-type {\n",
       "        vertical-align: middle;\n",
       "    }\n",
       "\n",
       "    .dataframe tbody tr th {\n",
       "        vertical-align: top;\n",
       "    }\n",
       "\n",
       "    .dataframe thead th {\n",
       "        text-align: right;\n",
       "    }\n",
       "</style>\n",
       "<table border=\"1\" class=\"dataframe\">\n",
       "  <thead>\n",
       "    <tr style=\"text-align: right;\">\n",
       "      <th></th>\n",
       "      <th>Age</th>\n",
       "      <th>Gender</th>\n",
       "      <th>EducationLevel</th>\n",
       "      <th>Job Title</th>\n",
       "      <th>YearsOfExperience</th>\n",
       "      <th>Salary</th>\n",
       "    </tr>\n",
       "  </thead>\n",
       "  <tbody>\n",
       "    <tr>\n",
       "      <th>0</th>\n",
       "      <td>32.0</td>\n",
       "      <td>Male</td>\n",
       "      <td>Bachelor's</td>\n",
       "      <td>Software Engineer</td>\n",
       "      <td>5.0</td>\n",
       "      <td>90000.0</td>\n",
       "    </tr>\n",
       "    <tr>\n",
       "      <th>1</th>\n",
       "      <td>28.0</td>\n",
       "      <td>Female</td>\n",
       "      <td>Master's</td>\n",
       "      <td>Data Analyst</td>\n",
       "      <td>3.0</td>\n",
       "      <td>65000.0</td>\n",
       "    </tr>\n",
       "    <tr>\n",
       "      <th>2</th>\n",
       "      <td>45.0</td>\n",
       "      <td>Male</td>\n",
       "      <td>PhD</td>\n",
       "      <td>Senior Manager</td>\n",
       "      <td>15.0</td>\n",
       "      <td>150000.0</td>\n",
       "    </tr>\n",
       "    <tr>\n",
       "      <th>3</th>\n",
       "      <td>36.0</td>\n",
       "      <td>Female</td>\n",
       "      <td>Bachelor's</td>\n",
       "      <td>Sales Associate</td>\n",
       "      <td>7.0</td>\n",
       "      <td>60000.0</td>\n",
       "    </tr>\n",
       "    <tr>\n",
       "      <th>4</th>\n",
       "      <td>52.0</td>\n",
       "      <td>Male</td>\n",
       "      <td>Master's</td>\n",
       "      <td>Director</td>\n",
       "      <td>20.0</td>\n",
       "      <td>200000.0</td>\n",
       "    </tr>\n",
       "    <tr>\n",
       "      <th>...</th>\n",
       "      <td>...</td>\n",
       "      <td>...</td>\n",
       "      <td>...</td>\n",
       "      <td>...</td>\n",
       "      <td>...</td>\n",
       "      <td>...</td>\n",
       "    </tr>\n",
       "    <tr>\n",
       "      <th>370</th>\n",
       "      <td>35.0</td>\n",
       "      <td>Female</td>\n",
       "      <td>Bachelor's</td>\n",
       "      <td>Senior Marketing Analyst</td>\n",
       "      <td>8.0</td>\n",
       "      <td>85000.0</td>\n",
       "    </tr>\n",
       "    <tr>\n",
       "      <th>371</th>\n",
       "      <td>43.0</td>\n",
       "      <td>Male</td>\n",
       "      <td>Master's</td>\n",
       "      <td>Director of Operations</td>\n",
       "      <td>19.0</td>\n",
       "      <td>170000.0</td>\n",
       "    </tr>\n",
       "    <tr>\n",
       "      <th>372</th>\n",
       "      <td>29.0</td>\n",
       "      <td>Female</td>\n",
       "      <td>Bachelor's</td>\n",
       "      <td>Junior Project Manager</td>\n",
       "      <td>2.0</td>\n",
       "      <td>40000.0</td>\n",
       "    </tr>\n",
       "    <tr>\n",
       "      <th>373</th>\n",
       "      <td>34.0</td>\n",
       "      <td>Male</td>\n",
       "      <td>Bachelor's</td>\n",
       "      <td>Senior Operations Coordinator</td>\n",
       "      <td>7.0</td>\n",
       "      <td>90000.0</td>\n",
       "    </tr>\n",
       "    <tr>\n",
       "      <th>374</th>\n",
       "      <td>44.0</td>\n",
       "      <td>Female</td>\n",
       "      <td>PhD</td>\n",
       "      <td>Senior Business Analyst</td>\n",
       "      <td>15.0</td>\n",
       "      <td>150000.0</td>\n",
       "    </tr>\n",
       "  </tbody>\n",
       "</table>\n",
       "<p>375 rows × 6 columns</p>\n",
       "</div>"
      ],
      "text/plain": [
       "      Age  Gender EducationLevel                      Job Title  \\\n",
       "0    32.0    Male     Bachelor's              Software Engineer   \n",
       "1    28.0  Female       Master's                   Data Analyst   \n",
       "2    45.0    Male            PhD                 Senior Manager   \n",
       "3    36.0  Female     Bachelor's                Sales Associate   \n",
       "4    52.0    Male       Master's                       Director   \n",
       "..    ...     ...            ...                            ...   \n",
       "370  35.0  Female     Bachelor's       Senior Marketing Analyst   \n",
       "371  43.0    Male       Master's         Director of Operations   \n",
       "372  29.0  Female     Bachelor's         Junior Project Manager   \n",
       "373  34.0    Male     Bachelor's  Senior Operations Coordinator   \n",
       "374  44.0  Female            PhD        Senior Business Analyst   \n",
       "\n",
       "     YearsOfExperience    Salary  \n",
       "0                  5.0   90000.0  \n",
       "1                  3.0   65000.0  \n",
       "2                 15.0  150000.0  \n",
       "3                  7.0   60000.0  \n",
       "4                 20.0  200000.0  \n",
       "..                 ...       ...  \n",
       "370                8.0   85000.0  \n",
       "371               19.0  170000.0  \n",
       "372                2.0   40000.0  \n",
       "373                7.0   90000.0  \n",
       "374               15.0  150000.0  \n",
       "\n",
       "[375 rows x 6 columns]"
      ]
     },
     "execution_count": 3,
     "metadata": {},
     "output_type": "execute_result"
    }
   ],
   "source": [
    "#1 PERSIAPAN DATA\n",
    "df_salary = pd.read_csv(\"salary_data.csv\")\n",
    "df_salary.rename(columns = {'Education Level':'EducationLevel', 'Years of Experience':'YearsOfExperience'}, inplace=True)\n",
    "df_salary"
   ]
  },
  {
   "cell_type": "code",
   "execution_count": 4,
   "id": "339e5b8d",
   "metadata": {},
   "outputs": [
    {
     "data": {
      "text/plain": [
       "Age                  2\n",
       "Gender               2\n",
       "EducationLevel       2\n",
       "Job Title            2\n",
       "YearsOfExperience    2\n",
       "Salary               2\n",
       "dtype: int64"
      ]
     },
     "execution_count": 4,
     "metadata": {},
     "output_type": "execute_result"
    }
   ],
   "source": [
    "#1A Cek Missing Value\n",
    "df_salary.isna().sum()"
   ]
  },
  {
   "cell_type": "code",
   "execution_count": 5,
   "id": "1f73c3f1",
   "metadata": {},
   "outputs": [
    {
     "data": {
      "text/html": [
       "<div>\n",
       "<style scoped>\n",
       "    .dataframe tbody tr th:only-of-type {\n",
       "        vertical-align: middle;\n",
       "    }\n",
       "\n",
       "    .dataframe tbody tr th {\n",
       "        vertical-align: top;\n",
       "    }\n",
       "\n",
       "    .dataframe thead th {\n",
       "        text-align: right;\n",
       "    }\n",
       "</style>\n",
       "<table border=\"1\" class=\"dataframe\">\n",
       "  <thead>\n",
       "    <tr style=\"text-align: right;\">\n",
       "      <th></th>\n",
       "      <th>Age</th>\n",
       "      <th>Gender</th>\n",
       "      <th>EducationLevel</th>\n",
       "      <th>Job Title</th>\n",
       "      <th>YearsOfExperience</th>\n",
       "      <th>Salary</th>\n",
       "    </tr>\n",
       "  </thead>\n",
       "  <tbody>\n",
       "    <tr>\n",
       "      <th>172</th>\n",
       "      <td>NaN</td>\n",
       "      <td>NaN</td>\n",
       "      <td>NaN</td>\n",
       "      <td>NaN</td>\n",
       "      <td>NaN</td>\n",
       "      <td>NaN</td>\n",
       "    </tr>\n",
       "    <tr>\n",
       "      <th>260</th>\n",
       "      <td>NaN</td>\n",
       "      <td>NaN</td>\n",
       "      <td>NaN</td>\n",
       "      <td>NaN</td>\n",
       "      <td>NaN</td>\n",
       "      <td>NaN</td>\n",
       "    </tr>\n",
       "  </tbody>\n",
       "</table>\n",
       "</div>"
      ],
      "text/plain": [
       "     Age Gender EducationLevel Job Title  YearsOfExperience  Salary\n",
       "172  NaN    NaN            NaN       NaN                NaN     NaN\n",
       "260  NaN    NaN            NaN       NaN                NaN     NaN"
      ]
     },
     "execution_count": 5,
     "metadata": {},
     "output_type": "execute_result"
    }
   ],
   "source": [
    "df_salary[df_salary[\"Age\"].isna()]"
   ]
  },
  {
   "cell_type": "code",
   "execution_count": 6,
   "id": "84ada6e1",
   "metadata": {},
   "outputs": [],
   "source": [
    "#1A Hapus Missing Value\n",
    "df_salary = df_salary.dropna()"
   ]
  },
  {
   "cell_type": "code",
   "execution_count": 7,
   "id": "c6fba732",
   "metadata": {},
   "outputs": [
    {
     "data": {
      "text/plain": [
       "Age                  0\n",
       "Gender               0\n",
       "EducationLevel       0\n",
       "Job Title            0\n",
       "YearsOfExperience    0\n",
       "Salary               0\n",
       "dtype: int64"
      ]
     },
     "execution_count": 7,
     "metadata": {},
     "output_type": "execute_result"
    }
   ],
   "source": [
    "df_salary.isna().sum()"
   ]
  },
  {
   "cell_type": "code",
   "execution_count": 8,
   "id": "ff460c1f",
   "metadata": {},
   "outputs": [
    {
     "data": {
      "text/plain": [
       "49"
      ]
     },
     "execution_count": 8,
     "metadata": {},
     "output_type": "execute_result"
    }
   ],
   "source": [
    "# 1B Cek Duplicated Data\n",
    "df_salary.duplicated().sum()"
   ]
  },
  {
   "cell_type": "code",
   "execution_count": 9,
   "id": "9055b6d5",
   "metadata": {},
   "outputs": [
    {
     "data": {
      "text/html": [
       "<div>\n",
       "<style scoped>\n",
       "    .dataframe tbody tr th:only-of-type {\n",
       "        vertical-align: middle;\n",
       "    }\n",
       "\n",
       "    .dataframe tbody tr th {\n",
       "        vertical-align: top;\n",
       "    }\n",
       "\n",
       "    .dataframe thead th {\n",
       "        text-align: right;\n",
       "    }\n",
       "</style>\n",
       "<table border=\"1\" class=\"dataframe\">\n",
       "  <thead>\n",
       "    <tr style=\"text-align: right;\">\n",
       "      <th></th>\n",
       "      <th>Age</th>\n",
       "      <th>Gender</th>\n",
       "      <th>EducationLevel</th>\n",
       "      <th>Job Title</th>\n",
       "      <th>YearsOfExperience</th>\n",
       "      <th>Salary</th>\n",
       "    </tr>\n",
       "  </thead>\n",
       "  <tbody>\n",
       "    <tr>\n",
       "      <th>140</th>\n",
       "      <td>28.0</td>\n",
       "      <td>Male</td>\n",
       "      <td>Bachelor's</td>\n",
       "      <td>Junior Business Analyst</td>\n",
       "      <td>2.0</td>\n",
       "      <td>40000.0</td>\n",
       "    </tr>\n",
       "    <tr>\n",
       "      <th>195</th>\n",
       "      <td>28.0</td>\n",
       "      <td>Male</td>\n",
       "      <td>Bachelor's</td>\n",
       "      <td>Junior Business Analyst</td>\n",
       "      <td>2.0</td>\n",
       "      <td>40000.0</td>\n",
       "    </tr>\n",
       "    <tr>\n",
       "      <th>209</th>\n",
       "      <td>30.0</td>\n",
       "      <td>Female</td>\n",
       "      <td>Bachelor's</td>\n",
       "      <td>Junior Marketing Coordinator</td>\n",
       "      <td>2.0</td>\n",
       "      <td>40000.0</td>\n",
       "    </tr>\n",
       "    <tr>\n",
       "      <th>210</th>\n",
       "      <td>38.0</td>\n",
       "      <td>Male</td>\n",
       "      <td>Master's</td>\n",
       "      <td>Senior IT Consultant</td>\n",
       "      <td>9.0</td>\n",
       "      <td>110000.0</td>\n",
       "    </tr>\n",
       "    <tr>\n",
       "      <th>211</th>\n",
       "      <td>45.0</td>\n",
       "      <td>Female</td>\n",
       "      <td>PhD</td>\n",
       "      <td>Senior Product Designer</td>\n",
       "      <td>15.0</td>\n",
       "      <td>150000.0</td>\n",
       "    </tr>\n",
       "    <tr>\n",
       "      <th>...</th>\n",
       "      <td>...</td>\n",
       "      <td>...</td>\n",
       "      <td>...</td>\n",
       "      <td>...</td>\n",
       "      <td>...</td>\n",
       "      <td>...</td>\n",
       "    </tr>\n",
       "    <tr>\n",
       "      <th>369</th>\n",
       "      <td>33.0</td>\n",
       "      <td>Male</td>\n",
       "      <td>Bachelor's</td>\n",
       "      <td>Junior Business Analyst</td>\n",
       "      <td>4.0</td>\n",
       "      <td>60000.0</td>\n",
       "    </tr>\n",
       "    <tr>\n",
       "      <th>370</th>\n",
       "      <td>35.0</td>\n",
       "      <td>Female</td>\n",
       "      <td>Bachelor's</td>\n",
       "      <td>Senior Marketing Analyst</td>\n",
       "      <td>8.0</td>\n",
       "      <td>85000.0</td>\n",
       "    </tr>\n",
       "    <tr>\n",
       "      <th>372</th>\n",
       "      <td>29.0</td>\n",
       "      <td>Female</td>\n",
       "      <td>Bachelor's</td>\n",
       "      <td>Junior Project Manager</td>\n",
       "      <td>2.0</td>\n",
       "      <td>40000.0</td>\n",
       "    </tr>\n",
       "    <tr>\n",
       "      <th>373</th>\n",
       "      <td>34.0</td>\n",
       "      <td>Male</td>\n",
       "      <td>Bachelor's</td>\n",
       "      <td>Senior Operations Coordinator</td>\n",
       "      <td>7.0</td>\n",
       "      <td>90000.0</td>\n",
       "    </tr>\n",
       "    <tr>\n",
       "      <th>374</th>\n",
       "      <td>44.0</td>\n",
       "      <td>Female</td>\n",
       "      <td>PhD</td>\n",
       "      <td>Senior Business Analyst</td>\n",
       "      <td>15.0</td>\n",
       "      <td>150000.0</td>\n",
       "    </tr>\n",
       "  </tbody>\n",
       "</table>\n",
       "<p>88 rows × 6 columns</p>\n",
       "</div>"
      ],
      "text/plain": [
       "      Age  Gender EducationLevel                      Job Title  \\\n",
       "140  28.0    Male     Bachelor's        Junior Business Analyst   \n",
       "195  28.0    Male     Bachelor's        Junior Business Analyst   \n",
       "209  30.0  Female     Bachelor's   Junior Marketing Coordinator   \n",
       "210  38.0    Male       Master's           Senior IT Consultant   \n",
       "211  45.0  Female            PhD        Senior Product Designer   \n",
       "..    ...     ...            ...                            ...   \n",
       "369  33.0    Male     Bachelor's        Junior Business Analyst   \n",
       "370  35.0  Female     Bachelor's       Senior Marketing Analyst   \n",
       "372  29.0  Female     Bachelor's         Junior Project Manager   \n",
       "373  34.0    Male     Bachelor's  Senior Operations Coordinator   \n",
       "374  44.0  Female            PhD        Senior Business Analyst   \n",
       "\n",
       "     YearsOfExperience    Salary  \n",
       "140                2.0   40000.0  \n",
       "195                2.0   40000.0  \n",
       "209                2.0   40000.0  \n",
       "210                9.0  110000.0  \n",
       "211               15.0  150000.0  \n",
       "..                 ...       ...  \n",
       "369                4.0   60000.0  \n",
       "370                8.0   85000.0  \n",
       "372                2.0   40000.0  \n",
       "373                7.0   90000.0  \n",
       "374               15.0  150000.0  \n",
       "\n",
       "[88 rows x 6 columns]"
      ]
     },
     "execution_count": 9,
     "metadata": {},
     "output_type": "execute_result"
    }
   ],
   "source": [
    "df_salary[df_salary.duplicated(keep=False)]"
   ]
  },
  {
   "cell_type": "code",
   "execution_count": 10,
   "id": "025c078c",
   "metadata": {},
   "outputs": [
    {
     "data": {
      "text/plain": [
       "0"
      ]
     },
     "execution_count": 10,
     "metadata": {},
     "output_type": "execute_result"
    }
   ],
   "source": [
    "# Hapus duplicate data\n",
    "df_salary = df_salary.drop_duplicates(keep=\"first\")\n",
    "df_salary.duplicated().sum()"
   ]
  },
  {
   "cell_type": "code",
   "execution_count": 11,
   "id": "d723b840",
   "metadata": {},
   "outputs": [
    {
     "data": {
      "text/html": [
       "<div>\n",
       "<style scoped>\n",
       "    .dataframe tbody tr th:only-of-type {\n",
       "        vertical-align: middle;\n",
       "    }\n",
       "\n",
       "    .dataframe tbody tr th {\n",
       "        vertical-align: top;\n",
       "    }\n",
       "\n",
       "    .dataframe thead th {\n",
       "        text-align: right;\n",
       "    }\n",
       "</style>\n",
       "<table border=\"1\" class=\"dataframe\">\n",
       "  <thead>\n",
       "    <tr style=\"text-align: right;\">\n",
       "      <th></th>\n",
       "      <th>Age</th>\n",
       "      <th>Gender</th>\n",
       "      <th>EducationLevel</th>\n",
       "      <th>Job Title</th>\n",
       "      <th>YearsOfExperience</th>\n",
       "      <th>Salary</th>\n",
       "    </tr>\n",
       "  </thead>\n",
       "  <tbody>\n",
       "    <tr>\n",
       "      <th>0</th>\n",
       "      <td>32.0</td>\n",
       "      <td>Male</td>\n",
       "      <td>Bachelor's</td>\n",
       "      <td>Software Engineer</td>\n",
       "      <td>5.0</td>\n",
       "      <td>90000.0</td>\n",
       "    </tr>\n",
       "    <tr>\n",
       "      <th>1</th>\n",
       "      <td>28.0</td>\n",
       "      <td>Female</td>\n",
       "      <td>Master's</td>\n",
       "      <td>Data Analyst</td>\n",
       "      <td>3.0</td>\n",
       "      <td>65000.0</td>\n",
       "    </tr>\n",
       "    <tr>\n",
       "      <th>2</th>\n",
       "      <td>45.0</td>\n",
       "      <td>Male</td>\n",
       "      <td>PhD</td>\n",
       "      <td>Senior Manager</td>\n",
       "      <td>15.0</td>\n",
       "      <td>150000.0</td>\n",
       "    </tr>\n",
       "    <tr>\n",
       "      <th>3</th>\n",
       "      <td>36.0</td>\n",
       "      <td>Female</td>\n",
       "      <td>Bachelor's</td>\n",
       "      <td>Sales Associate</td>\n",
       "      <td>7.0</td>\n",
       "      <td>60000.0</td>\n",
       "    </tr>\n",
       "    <tr>\n",
       "      <th>4</th>\n",
       "      <td>52.0</td>\n",
       "      <td>Male</td>\n",
       "      <td>Master's</td>\n",
       "      <td>Director</td>\n",
       "      <td>20.0</td>\n",
       "      <td>200000.0</td>\n",
       "    </tr>\n",
       "    <tr>\n",
       "      <th>...</th>\n",
       "      <td>...</td>\n",
       "      <td>...</td>\n",
       "      <td>...</td>\n",
       "      <td>...</td>\n",
       "      <td>...</td>\n",
       "      <td>...</td>\n",
       "    </tr>\n",
       "    <tr>\n",
       "      <th>348</th>\n",
       "      <td>28.0</td>\n",
       "      <td>Female</td>\n",
       "      <td>Bachelor's</td>\n",
       "      <td>Junior Operations Manager</td>\n",
       "      <td>1.0</td>\n",
       "      <td>35000.0</td>\n",
       "    </tr>\n",
       "    <tr>\n",
       "      <th>349</th>\n",
       "      <td>36.0</td>\n",
       "      <td>Male</td>\n",
       "      <td>Bachelor's</td>\n",
       "      <td>Senior Business Development Manager</td>\n",
       "      <td>8.0</td>\n",
       "      <td>110000.0</td>\n",
       "    </tr>\n",
       "    <tr>\n",
       "      <th>350</th>\n",
       "      <td>44.0</td>\n",
       "      <td>Female</td>\n",
       "      <td>PhD</td>\n",
       "      <td>Senior Data Scientist</td>\n",
       "      <td>16.0</td>\n",
       "      <td>160000.0</td>\n",
       "    </tr>\n",
       "    <tr>\n",
       "      <th>351</th>\n",
       "      <td>31.0</td>\n",
       "      <td>Male</td>\n",
       "      <td>Bachelor's</td>\n",
       "      <td>Junior Marketing Coordinator</td>\n",
       "      <td>3.0</td>\n",
       "      <td>55000.0</td>\n",
       "    </tr>\n",
       "    <tr>\n",
       "      <th>371</th>\n",
       "      <td>43.0</td>\n",
       "      <td>Male</td>\n",
       "      <td>Master's</td>\n",
       "      <td>Director of Operations</td>\n",
       "      <td>19.0</td>\n",
       "      <td>170000.0</td>\n",
       "    </tr>\n",
       "  </tbody>\n",
       "</table>\n",
       "<p>324 rows × 6 columns</p>\n",
       "</div>"
      ],
      "text/plain": [
       "      Age  Gender EducationLevel                            Job Title  \\\n",
       "0    32.0    Male     Bachelor's                    Software Engineer   \n",
       "1    28.0  Female       Master's                         Data Analyst   \n",
       "2    45.0    Male            PhD                       Senior Manager   \n",
       "3    36.0  Female     Bachelor's                      Sales Associate   \n",
       "4    52.0    Male       Master's                             Director   \n",
       "..    ...     ...            ...                                  ...   \n",
       "348  28.0  Female     Bachelor's            Junior Operations Manager   \n",
       "349  36.0    Male     Bachelor's  Senior Business Development Manager   \n",
       "350  44.0  Female            PhD                Senior Data Scientist   \n",
       "351  31.0    Male     Bachelor's         Junior Marketing Coordinator   \n",
       "371  43.0    Male       Master's               Director of Operations   \n",
       "\n",
       "     YearsOfExperience    Salary  \n",
       "0                  5.0   90000.0  \n",
       "1                  3.0   65000.0  \n",
       "2                 15.0  150000.0  \n",
       "3                  7.0   60000.0  \n",
       "4                 20.0  200000.0  \n",
       "..                 ...       ...  \n",
       "348                1.0   35000.0  \n",
       "349                8.0  110000.0  \n",
       "350               16.0  160000.0  \n",
       "351                3.0   55000.0  \n",
       "371               19.0  170000.0  \n",
       "\n",
       "[324 rows x 6 columns]"
      ]
     },
     "execution_count": 11,
     "metadata": {},
     "output_type": "execute_result"
    }
   ],
   "source": [
    "df_salary"
   ]
  },
  {
   "cell_type": "code",
   "execution_count": 12,
   "id": "f2224482",
   "metadata": {},
   "outputs": [
    {
     "data": {
      "text/html": [
       "<div>\n",
       "<style scoped>\n",
       "    .dataframe tbody tr th:only-of-type {\n",
       "        vertical-align: middle;\n",
       "    }\n",
       "\n",
       "    .dataframe tbody tr th {\n",
       "        vertical-align: top;\n",
       "    }\n",
       "\n",
       "    .dataframe thead th {\n",
       "        text-align: right;\n",
       "    }\n",
       "</style>\n",
       "<table border=\"1\" class=\"dataframe\">\n",
       "  <thead>\n",
       "    <tr style=\"text-align: right;\">\n",
       "      <th></th>\n",
       "      <th>count</th>\n",
       "      <th>mean</th>\n",
       "      <th>std</th>\n",
       "      <th>min</th>\n",
       "      <th>25%</th>\n",
       "      <th>50%</th>\n",
       "      <th>75%</th>\n",
       "      <th>max</th>\n",
       "    </tr>\n",
       "  </thead>\n",
       "  <tbody>\n",
       "    <tr>\n",
       "      <th>Age</th>\n",
       "      <td>324.0</td>\n",
       "      <td>37.382716</td>\n",
       "      <td>7.185844</td>\n",
       "      <td>23.0</td>\n",
       "      <td>31.0</td>\n",
       "      <td>36.5</td>\n",
       "      <td>44.0</td>\n",
       "      <td>53.0</td>\n",
       "    </tr>\n",
       "    <tr>\n",
       "      <th>YearsOfExperience</th>\n",
       "      <td>324.0</td>\n",
       "      <td>10.058642</td>\n",
       "      <td>6.650470</td>\n",
       "      <td>0.0</td>\n",
       "      <td>4.0</td>\n",
       "      <td>9.0</td>\n",
       "      <td>16.0</td>\n",
       "      <td>25.0</td>\n",
       "    </tr>\n",
       "    <tr>\n",
       "      <th>Salary</th>\n",
       "      <td>324.0</td>\n",
       "      <td>99985.648148</td>\n",
       "      <td>48652.271440</td>\n",
       "      <td>350.0</td>\n",
       "      <td>55000.0</td>\n",
       "      <td>95000.0</td>\n",
       "      <td>140000.0</td>\n",
       "      <td>250000.0</td>\n",
       "    </tr>\n",
       "  </tbody>\n",
       "</table>\n",
       "</div>"
      ],
      "text/plain": [
       "                   count          mean           std    min      25%      50%  \\\n",
       "Age                324.0     37.382716      7.185844   23.0     31.0     36.5   \n",
       "YearsOfExperience  324.0     10.058642      6.650470    0.0      4.0      9.0   \n",
       "Salary             324.0  99985.648148  48652.271440  350.0  55000.0  95000.0   \n",
       "\n",
       "                        75%       max  \n",
       "Age                    44.0      53.0  \n",
       "YearsOfExperience      16.0      25.0  \n",
       "Salary             140000.0  250000.0  "
      ]
     },
     "execution_count": 12,
     "metadata": {},
     "output_type": "execute_result"
    }
   ],
   "source": [
    "#2 DESKRIPSI DATA\n",
    "df_salary.describe().transpose()"
   ]
  },
  {
   "cell_type": "code",
   "execution_count": 13,
   "id": "ce3adafb",
   "metadata": {},
   "outputs": [
    {
     "data": {
      "text/plain": [
       "Male      170\n",
       "Female    154\n",
       "Name: Gender, dtype: int64"
      ]
     },
     "execution_count": 13,
     "metadata": {},
     "output_type": "execute_result"
    }
   ],
   "source": [
    "df_salary[\"Gender\"].value_counts()"
   ]
  },
  {
   "cell_type": "code",
   "execution_count": 14,
   "id": "12292c53",
   "metadata": {},
   "outputs": [
    {
     "data": {
      "text/plain": [
       "Bachelor's    191\n",
       "Master's       91\n",
       "PhD            42\n",
       "Name: EducationLevel, dtype: int64"
      ]
     },
     "execution_count": 14,
     "metadata": {},
     "output_type": "execute_result"
    }
   ],
   "source": [
    "df_salary[\"EducationLevel\"].value_counts()"
   ]
  },
  {
   "cell_type": "code",
   "execution_count": 15,
   "id": "c18722f7",
   "metadata": {},
   "outputs": [
    {
     "name": "stdout",
     "output_type": "stream",
     "text": [
      "<class 'pandas.core.frame.DataFrame'>\n",
      "Int64Index: 324 entries, 0 to 371\n",
      "Data columns (total 6 columns):\n",
      " #   Column             Non-Null Count  Dtype  \n",
      "---  ------             --------------  -----  \n",
      " 0   Age                324 non-null    float64\n",
      " 1   Gender             324 non-null    object \n",
      " 2   EducationLevel     324 non-null    object \n",
      " 3   Job Title          324 non-null    object \n",
      " 4   YearsOfExperience  324 non-null    float64\n",
      " 5   Salary             324 non-null    float64\n",
      "dtypes: float64(3), object(3)\n",
      "memory usage: 17.7+ KB\n"
     ]
    }
   ],
   "source": [
    "df_salary.info()"
   ]
  },
  {
   "cell_type": "code",
   "execution_count": 16,
   "id": "8e98b082",
   "metadata": {},
   "outputs": [
    {
     "data": {
      "text/html": [
       "<div>\n",
       "<style scoped>\n",
       "    .dataframe tbody tr th:only-of-type {\n",
       "        vertical-align: middle;\n",
       "    }\n",
       "\n",
       "    .dataframe tbody tr th {\n",
       "        vertical-align: top;\n",
       "    }\n",
       "\n",
       "    .dataframe thead th {\n",
       "        text-align: right;\n",
       "    }\n",
       "</style>\n",
       "<table border=\"1\" class=\"dataframe\">\n",
       "  <thead>\n",
       "    <tr style=\"text-align: right;\">\n",
       "      <th></th>\n",
       "      <th>Age</th>\n",
       "      <th>YearsOfExperience</th>\n",
       "      <th>Salary</th>\n",
       "    </tr>\n",
       "  </thead>\n",
       "  <tbody>\n",
       "    <tr>\n",
       "      <th>Age</th>\n",
       "      <td>1.000000</td>\n",
       "      <td>0.979192</td>\n",
       "      <td>0.916543</td>\n",
       "    </tr>\n",
       "    <tr>\n",
       "      <th>YearsOfExperience</th>\n",
       "      <td>0.979192</td>\n",
       "      <td>1.000000</td>\n",
       "      <td>0.924455</td>\n",
       "    </tr>\n",
       "    <tr>\n",
       "      <th>Salary</th>\n",
       "      <td>0.916543</td>\n",
       "      <td>0.924455</td>\n",
       "      <td>1.000000</td>\n",
       "    </tr>\n",
       "  </tbody>\n",
       "</table>\n",
       "</div>"
      ],
      "text/plain": [
       "                        Age  YearsOfExperience    Salary\n",
       "Age                1.000000           0.979192  0.916543\n",
       "YearsOfExperience  0.979192           1.000000  0.924455\n",
       "Salary             0.916543           0.924455  1.000000"
      ]
     },
     "execution_count": 16,
     "metadata": {},
     "output_type": "execute_result"
    }
   ],
   "source": [
    "#2A Korelasi dalam variabel angka\n",
    "df_salary[[\"Age\",\"YearsOfExperience\", \"Salary\"]].corr()"
   ]
  },
  {
   "cell_type": "code",
   "execution_count": 17,
   "id": "c7a500e2",
   "metadata": {},
   "outputs": [],
   "source": [
    "#2B Rata-rata gaji dalam setiap variabel kategorial"
   ]
  },
  {
   "cell_type": "code",
   "execution_count": 18,
   "id": "44e6c521",
   "metadata": {},
   "outputs": [
    {
     "data": {
      "text/plain": [
       "Gender\n",
       "Female     96136.363636\n",
       "Male      103472.647059\n",
       "Name: Salary, dtype: float64"
      ]
     },
     "execution_count": 18,
     "metadata": {},
     "output_type": "execute_result"
    }
   ],
   "source": [
    "#Gaji antar jenis kelamin\n",
    "df_salary.groupby(\"Gender\")[\"Salary\"].mean()"
   ]
  },
  {
   "cell_type": "code",
   "execution_count": 19,
   "id": "cfbf3929",
   "metadata": {},
   "outputs": [
    {
     "data": {
      "text/plain": [
       "EducationLevel\n",
       "Bachelor's     73902.356021\n",
       "Master's      127912.087912\n",
       "PhD           158095.238095\n",
       "Name: Salary, dtype: float64"
      ]
     },
     "execution_count": 19,
     "metadata": {},
     "output_type": "execute_result"
    }
   ],
   "source": [
    "#Gaji antar level pendidikan\n",
    "df_salary.groupby(\"EducationLevel\")[\"Salary\"].mean()"
   ]
  },
  {
   "cell_type": "code",
   "execution_count": 20,
   "id": "d62908dd",
   "metadata": {},
   "outputs": [
    {
     "data": {
      "text/plain": [
       "<seaborn.axisgrid.PairGrid at 0x28201253130>"
      ]
     },
     "execution_count": 20,
     "metadata": {},
     "output_type": "execute_result"
    },
    {
     "data": {
      "image/png": "[encoded data removed]",
      "text/plain": [
       "<Figure size 700.25x600 with 12 Axes>"
      ]
     },
     "metadata": {},
     "output_type": "display_data"
    }
   ],
   "source": [
    "#2C Variabel angka dalam setiap variabel kategorial\n",
    "sns.pairplot(data=df_salary, hue=\"Gender\", height=2)"
   ]
  },
  {
   "cell_type": "code",
   "execution_count": 21,
   "id": "8e628c18",
   "metadata": {},
   "outputs": [],
   "source": [
    "#3 UJI STATISTIK\n",
    "# H0:Rata-rata gaji laki-laki sama dengan dari rata-rata gaji perempuan\n",
    "# H1:Rata-rata gaji laki-laki lebih besar dari rata-rata gaji perempuan\n",
    "significance_level = 0.10\n",
    "#Semakin bertambahnya pengalaman kerja seseorang, besaran gaji yang diterimanya juga meningkat.\n",
    "#Semakin tua seseorang, semakin banyak pengalaman kerja yang dapat diakumulasikan.\n",
    "#Gaji tidak dipengaruhi oleh jenis kelamin."
   ]
  },
  {
   "cell_type": "code",
   "execution_count": 22,
   "id": "12e1c06e",
   "metadata": {},
   "outputs": [
    {
     "data": {
      "text/plain": [
       "Gender\n",
       "Female     96136.363636\n",
       "Male      103472.647059\n",
       "Name: Salary, dtype: float64"
      ]
     },
     "execution_count": 22,
     "metadata": {},
     "output_type": "execute_result"
    }
   ],
   "source": [
    "#3A Preanalysis\n",
    "# Menghitung jumlah data laki-laki dan perempuan\n",
    "significance_level = 0.10\n",
    "df_salary.groupby(\"Gender\")[\"Salary\"].mean()"
   ]
  },
  {
   "cell_type": "code",
   "execution_count": 23,
   "id": "9403b5d0",
   "metadata": {},
   "outputs": [
    {
     "data": {
      "text/plain": [
       "(2571353207.6989617, 2097896989.374262)"
      ]
     },
     "execution_count": 23,
     "metadata": {},
     "output_type": "execute_result"
    }
   ],
   "source": [
    "#3B Analysis\n",
    "# Gaji Male\n",
    "df_male = df_salary[df_salary[\"Gender\"]==\"Male\"][\"Salary\"].values\n",
    "# Gaji Female\n",
    "df_female = df_salary[df_salary[\"Gender\"]==\"Female\"][\"Salary\"].values\n",
    "# Variansi\n",
    "np.var(df_male), np.var(df_female)"
   ]
  },
  {
   "cell_type": "code",
   "execution_count": 24,
   "id": "20dffe7f",
   "metadata": {},
   "outputs": [
    {
     "data": {
      "text/plain": [
       "0.08675461782037655"
      ]
     },
     "execution_count": 24,
     "metadata": {},
     "output_type": "execute_result"
    }
   ],
   "source": [
    "from scipy import stats\n",
    "result = stats.ttest_ind(a = df_male, b = df_female, equal_var=False, alternative = \"greater\")\n",
    "result.pvalue"
   ]
  },
  {
   "cell_type": "code",
   "execution_count": 25,
   "id": "2447cabf",
   "metadata": {},
   "outputs": [
    {
     "name": "stdout",
     "output_type": "stream",
     "text": [
      "Tolak hipotesis nol.\n"
     ]
    }
   ],
   "source": [
    "if result.pvalue < significance_level:\n",
    "    print(\"Tolak hipotesis nol.\")\n",
    "else:\n",
    "    print(\"Gagal menolak hipotesis nol.\")"
   ]
  },
  {
   "cell_type": "code",
   "execution_count": 26,
   "id": "4978995f",
   "metadata": {},
   "outputs": [
    {
     "data": {
      "text/plain": [
       "324"
      ]
     },
     "execution_count": 26,
     "metadata": {},
     "output_type": "execute_result"
    }
   ],
   "source": [
    "#3C Derajat Kebebasan\n",
    "df_data = len(df_male)+len(df_female)\n",
    "df_data"
   ]
  },
  {
   "cell_type": "code",
   "execution_count": 27,
   "id": "a9f78ddf",
   "metadata": {},
   "outputs": [
    {
     "data": {
      "image/png": "[encoded data removed]",
      "text/plain": [
       "<Figure size 640x480 with 1 Axes>"
      ]
     },
     "metadata": {},
     "output_type": "display_data"
    }
   ],
   "source": [
    "# plot sample dist \n",
    "x = np.arange(-4, 14, 0.001)\n",
    "plt.plot(x, stats.t.pdf(x, df = df_data), color='black')\n",
    "x_alpha = np.arange(stats.t.ppf(1-significance_level, df = df_data), 4, 0.01)\n",
    "y_alpha = stats.t.pdf(x_alpha, df = df_data)\n",
    "plt.fill_between(x = x_alpha, y1 = y_alpha, facecolor = 'red', alpha = 0.35, label = 'alpha')\n",
    "\n",
    "# plot value\n",
    "x_pvalue = np.arange(result.statistic, 4, 0.01)\n",
    "y_pvalue = stats.t.pdf(x_pvalue, df = df_data)\n",
    "plt.fill_between(x = x_pvalue, y1 = y_pvalue, facecolor = 'purple', alpha = 0.35, label = 'pvalue')\n",
    "plt.axvline(np.round(result.statistic, 4), color =\"green\", linestyle = \"--\", label =\"t-stat\")\n",
    "t_crit = np.round(stats.t.ppf(1-significance_level, df = df_data), 4)\n",
    "plt.axvline(t_crit, color =\"red\", linestyle = \"--\", label =\"t-crit\")\n",
    "plt.legend()\n",
    "plt.xlabel(\"t\")\n",
    "plt.ylabel(\"density\")\n",
    "plt.title(f'Grafik t Distribution Plot dengan Alpha = {significance_level}');\n",
    "plt.show()"
   ]
  },
  {
   "cell_type": "code",
   "execution_count": 28,
   "id": "29744d99",
   "metadata": {},
   "outputs": [],
   "source": [
    "#3D Confidence Level"
   ]
  },
  {
   "cell_type": "code",
   "execution_count": 29,
   "id": "b7fe7ecb",
   "metadata": {},
   "outputs": [
    {
     "name": "stdout",
     "output_type": "stream",
     "text": [
      "Confidence Interval adalah : [ -1535.8717753119818 16208.438620231766 ]\n"
     ]
    }
   ],
   "source": [
    "from statsmodels.stats.weightstats import DescrStatsW, CompareMeans\n",
    "cm = CompareMeans(d1 = DescrStatsW(data=df_male), \n",
    "                  d2 = DescrStatsW(data=df_female))\n",
    "lower, upper = cm.tconfint_diff(alpha=significance_level, alternative='two-sided', usevar='unequal')\n",
    "print(\"Confidence Interval adalah :\", \"[\", lower, upper, \"]\")"
   ]
  },
  {
   "cell_type": "code",
   "execution_count": 30,
   "id": "969834f4",
   "metadata": {},
   "outputs": [
    {
     "data": {
      "text/html": [
       "<div>\n",
       "<style scoped>\n",
       "    .dataframe tbody tr th:only-of-type {\n",
       "        vertical-align: middle;\n",
       "    }\n",
       "\n",
       "    .dataframe tbody tr th {\n",
       "        vertical-align: top;\n",
       "    }\n",
       "\n",
       "    .dataframe thead th {\n",
       "        text-align: right;\n",
       "    }\n",
       "</style>\n",
       "<table border=\"1\" class=\"dataframe\">\n",
       "  <thead>\n",
       "    <tr style=\"text-align: right;\">\n",
       "      <th></th>\n",
       "      <th>Age</th>\n",
       "      <th>Gender</th>\n",
       "      <th>EducationLevel</th>\n",
       "      <th>YearsOfExperience</th>\n",
       "      <th>Salary</th>\n",
       "    </tr>\n",
       "  </thead>\n",
       "  <tbody>\n",
       "    <tr>\n",
       "      <th>0</th>\n",
       "      <td>32.0</td>\n",
       "      <td>Male</td>\n",
       "      <td>Bachelor's</td>\n",
       "      <td>5.0</td>\n",
       "      <td>90000.0</td>\n",
       "    </tr>\n",
       "    <tr>\n",
       "      <th>1</th>\n",
       "      <td>28.0</td>\n",
       "      <td>Female</td>\n",
       "      <td>Master's</td>\n",
       "      <td>3.0</td>\n",
       "      <td>65000.0</td>\n",
       "    </tr>\n",
       "    <tr>\n",
       "      <th>2</th>\n",
       "      <td>45.0</td>\n",
       "      <td>Male</td>\n",
       "      <td>PhD</td>\n",
       "      <td>15.0</td>\n",
       "      <td>150000.0</td>\n",
       "    </tr>\n",
       "    <tr>\n",
       "      <th>3</th>\n",
       "      <td>36.0</td>\n",
       "      <td>Female</td>\n",
       "      <td>Bachelor's</td>\n",
       "      <td>7.0</td>\n",
       "      <td>60000.0</td>\n",
       "    </tr>\n",
       "    <tr>\n",
       "      <th>4</th>\n",
       "      <td>52.0</td>\n",
       "      <td>Male</td>\n",
       "      <td>Master's</td>\n",
       "      <td>20.0</td>\n",
       "      <td>200000.0</td>\n",
       "    </tr>\n",
       "  </tbody>\n",
       "</table>\n",
       "</div>"
      ],
      "text/plain": [
       "    Age  Gender EducationLevel  YearsOfExperience    Salary\n",
       "0  32.0    Male     Bachelor's                5.0   90000.0\n",
       "1  28.0  Female       Master's                3.0   65000.0\n",
       "2  45.0    Male            PhD               15.0  150000.0\n",
       "3  36.0  Female     Bachelor's                7.0   60000.0\n",
       "4  52.0    Male       Master's               20.0  200000.0"
      ]
     },
     "execution_count": 30,
     "metadata": {},
     "output_type": "execute_result"
    }
   ],
   "source": [
    "#4 MODEL REGRESI\n",
    "# Hapus Kolom Job Title karena tidak relevan dengan tujuan\n",
    "df_salary.drop(\"Job Title\", axis=1, inplace=True)\n",
    "df_salary.head()"
   ]
  },
  {
   "cell_type": "code",
   "execution_count": 31,
   "id": "8fd891c6",
   "metadata": {},
   "outputs": [
    {
     "data": {
      "text/plain": [
       "Bachelor's    191\n",
       "Master's       91\n",
       "PhD            42\n",
       "Name: EducationLevel, dtype: int64"
      ]
     },
     "execution_count": 31,
     "metadata": {},
     "output_type": "execute_result"
    }
   ],
   "source": [
    "# Ubah Kategorik menjadi Numerik\n",
    "df_salary[\"EducationLevel\"].value_counts()"
   ]
  },
  {
   "cell_type": "code",
   "execution_count": 32,
   "id": "12a66fbb",
   "metadata": {},
   "outputs": [
    {
     "data": {
      "text/plain": [
       "Male      170\n",
       "Female    154\n",
       "Name: Gender, dtype: int64"
      ]
     },
     "execution_count": 32,
     "metadata": {},
     "output_type": "execute_result"
    }
   ],
   "source": [
    "# Cek Data Gender\n",
    "df_salary[\"Gender\"].value_counts()"
   ]
  },
  {
   "cell_type": "code",
   "execution_count": 33,
   "id": "b10e574e",
   "metadata": {},
   "outputs": [
    {
     "data": {
      "text/html": [
       "<div>\n",
       "<style scoped>\n",
       "    .dataframe tbody tr th:only-of-type {\n",
       "        vertical-align: middle;\n",
       "    }\n",
       "\n",
       "    .dataframe tbody tr th {\n",
       "        vertical-align: top;\n",
       "    }\n",
       "\n",
       "    .dataframe thead th {\n",
       "        text-align: right;\n",
       "    }\n",
       "</style>\n",
       "<table border=\"1\" class=\"dataframe\">\n",
       "  <thead>\n",
       "    <tr style=\"text-align: right;\">\n",
       "      <th></th>\n",
       "      <th>Age</th>\n",
       "      <th>Gender</th>\n",
       "      <th>EducationLevel</th>\n",
       "      <th>YearsOfExperience</th>\n",
       "      <th>Salary</th>\n",
       "    </tr>\n",
       "  </thead>\n",
       "  <tbody>\n",
       "    <tr>\n",
       "      <th>0</th>\n",
       "      <td>32.0</td>\n",
       "      <td>0</td>\n",
       "      <td>0</td>\n",
       "      <td>5.0</td>\n",
       "      <td>90000.0</td>\n",
       "    </tr>\n",
       "    <tr>\n",
       "      <th>1</th>\n",
       "      <td>28.0</td>\n",
       "      <td>1</td>\n",
       "      <td>1</td>\n",
       "      <td>3.0</td>\n",
       "      <td>65000.0</td>\n",
       "    </tr>\n",
       "    <tr>\n",
       "      <th>2</th>\n",
       "      <td>45.0</td>\n",
       "      <td>0</td>\n",
       "      <td>2</td>\n",
       "      <td>15.0</td>\n",
       "      <td>150000.0</td>\n",
       "    </tr>\n",
       "    <tr>\n",
       "      <th>3</th>\n",
       "      <td>36.0</td>\n",
       "      <td>1</td>\n",
       "      <td>0</td>\n",
       "      <td>7.0</td>\n",
       "      <td>60000.0</td>\n",
       "    </tr>\n",
       "    <tr>\n",
       "      <th>4</th>\n",
       "      <td>52.0</td>\n",
       "      <td>0</td>\n",
       "      <td>1</td>\n",
       "      <td>20.0</td>\n",
       "      <td>200000.0</td>\n",
       "    </tr>\n",
       "  </tbody>\n",
       "</table>\n",
       "</div>"
      ],
      "text/plain": [
       "    Age  Gender  EducationLevel  YearsOfExperience    Salary\n",
       "0  32.0       0               0                5.0   90000.0\n",
       "1  28.0       1               1                3.0   65000.0\n",
       "2  45.0       0               2               15.0  150000.0\n",
       "3  36.0       1               0                7.0   60000.0\n",
       "4  52.0       0               1               20.0  200000.0"
      ]
     },
     "execution_count": 33,
     "metadata": {},
     "output_type": "execute_result"
    }
   ],
   "source": [
    "# Mengubah Data\n",
    "# Gender Male = 0, Female = 1\n",
    "# Education Level Bachelor's = 0, Master's = 1, PhD = 2\n",
    "df_salary[\"EducationLevel\"] = df_salary[\"EducationLevel\"].map({\"Bachelor's\":0,\"Master's\":1,\"PhD\":2})\n",
    "df_salary[\"Gender\"] = df_salary[\"Gender\"].map({\"Male\":0,\"Female\":1})\n",
    "df_salary.head()"
   ]
  },
  {
   "cell_type": "code",
   "execution_count": 34,
   "id": "2581653b",
   "metadata": {},
   "outputs": [
    {
     "data": {
      "image/png": "[encoded data removed]",
      "text/plain": [
       "<Figure size 640x480 with 1 Axes>"
      ]
     },
     "metadata": {},
     "output_type": "display_data"
    }
   ],
   "source": [
    "# Single Predictor Modelling\n",
    "x = df_salary[\"YearsOfExperience\"]\n",
    "y = df_salary[\"Salary\"]\n",
    "plt.scatter(x, y, color = \"k\", marker=\".\")\n",
    "plt.xlabel(\"Years of Experience\")\n",
    "plt.ylabel(\"Salary\")\n",
    "plt.title(\"Data\")\n",
    "plt.show()"
   ]
  },
  {
   "cell_type": "code",
   "execution_count": 35,
   "id": "bc5ceb13",
   "metadata": {},
   "outputs": [
    {
     "data": {
      "text/html": [
       "<div>\n",
       "<style scoped>\n",
       "    .dataframe tbody tr th:only-of-type {\n",
       "        vertical-align: middle;\n",
       "    }\n",
       "\n",
       "    .dataframe tbody tr th {\n",
       "        vertical-align: top;\n",
       "    }\n",
       "\n",
       "    .dataframe thead th {\n",
       "        text-align: right;\n",
       "    }\n",
       "</style>\n",
       "<table border=\"1\" class=\"dataframe\">\n",
       "  <thead>\n",
       "    <tr style=\"text-align: right;\">\n",
       "      <th></th>\n",
       "      <th>coef</th>\n",
       "      <th>std err</th>\n",
       "    </tr>\n",
       "  </thead>\n",
       "  <tbody>\n",
       "    <tr>\n",
       "      <th>Intercept</th>\n",
       "      <td>31959.508721</td>\n",
       "      <td>1873.552736</td>\n",
       "    </tr>\n",
       "    <tr>\n",
       "      <th>YearsOfExperience</th>\n",
       "      <td>6762.954641</td>\n",
       "      <td>155.446221</td>\n",
       "    </tr>\n",
       "  </tbody>\n",
       "</table>\n",
       "</div>"
      ],
      "text/plain": [
       "                           coef      std err\n",
       "Intercept          31959.508721  1873.552736\n",
       "YearsOfExperience   6762.954641   155.446221"
      ]
     },
     "execution_count": 35,
     "metadata": {},
     "output_type": "execute_result"
    }
   ],
   "source": [
    "# Fit Linear Regression Using Horsepower Variable\n",
    "# Create OLS model\n",
    "model = smf.ols(\"Salary ~ YearsOfExperience\", df_salary)\n",
    "results_model_salary = model.fit()\n",
    "results_salary = print_coef_std_err(results_model_salary)\n",
    "results_salary"
   ]
  },
  {
   "cell_type": "code",
   "execution_count": 36,
   "id": "de37b817",
   "metadata": {},
   "outputs": [
    {
     "data": {
      "text/plain": [
       "0.8546166681460778"
      ]
     },
     "execution_count": 36,
     "metadata": {},
     "output_type": "execute_result"
    }
   ],
   "source": [
    "results_model_salary.rsquared\n",
    "# Salary = 31960 + 6763 × Years of Experience"
   ]
  },
  {
   "cell_type": "code",
   "execution_count": 37,
   "id": "4f604ea3",
   "metadata": {},
   "outputs": [
    {
     "data": {
      "image/png": "[encoded data removed]",
      "text/plain": [
       "<Figure size 640x480 with 1 Axes>"
      ]
     },
     "metadata": {},
     "output_type": "display_data"
    }
   ],
   "source": [
    "#Visualisasi\n",
    "predictor = \"YearsOfExperience\"\n",
    "outcome = \"Salary\"\n",
    "data = df_salary.copy()\n",
    "results_ = results_salary.copy()\n",
    "plt.scatter(data[predictor], data[outcome], color = \"k\", marker=\".\")\n",
    "\n",
    "# Calculate the fitted values\n",
    "a_hat = results_.loc[\"Intercept\"][\"coef\"]\n",
    "b_hat = results_.loc[predictor][\"coef\"]\n",
    "x_domain = np.linspace(np.min(data[predictor]), np.max(data[predictor]), 10000)\n",
    "fitted_values = a_hat + b_hat * x_domain\n",
    "\n",
    "# Show the plot\n",
    "plt.plot(x_domain, fitted_values, label=\"Fitted line\", color = \"b\")\n",
    "plt.ylabel(outcome)\n",
    "plt.xlabel(predictor)\n",
    "plt.title(\"Grafik Data and Fitted Regression Line\")\n",
    "plt.show()"
   ]
  },
  {
   "cell_type": "code",
   "execution_count": 38,
   "id": "71e372e9",
   "metadata": {},
   "outputs": [
    {
     "data": {
      "image/png": "[encoded data removed]",
      "text/plain": [
       "<Figure size 640x480 with 1 Axes>"
      ]
     },
     "metadata": {},
     "output_type": "display_data"
    }
   ],
   "source": [
    "# Residual Plot\n",
    "plt.scatter(results_model_salary.fittedvalues, results_model_salary.resid, marker=\".\", c = \"k\")\n",
    "plt.axhline([0])\n",
    "plt.xlabel(\"predicted mpg\")\n",
    "plt.ylabel(\"residual\")\n",
    "plt.title(f\"Grafik Residuals vs. Predicted mpg\")\n",
    "plt.show()"
   ]
  },
  {
   "cell_type": "code",
   "execution_count": 39,
   "id": "ee023d91",
   "metadata": {},
   "outputs": [
    {
     "data": {
      "text/plain": [
       "0.8546166681460778"
      ]
     },
     "execution_count": 39,
     "metadata": {},
     "output_type": "execute_result"
    }
   ],
   "source": [
    "results_model_salary.rsquared"
   ]
  },
  {
   "cell_type": "code",
   "execution_count": 40,
   "id": "b5051719",
   "metadata": {},
   "outputs": [
    {
     "data": {
      "image/png": "[encoded data removed]",
      "text/plain": [
       "<Figure size 640x480 with 1 Axes>"
      ]
     },
     "metadata": {},
     "output_type": "display_data"
    }
   ],
   "source": [
    "# Normality of Error Assumption\n",
    "plt.hist(results_model_salary.resid, color='tab:blue', alpha=0.4)\n",
    "plt.xlabel(\"residual\")\n",
    "plt.ylabel(\"count\")\n",
    "plt.show()"
   ]
  },
  {
   "cell_type": "code",
   "execution_count": 41,
   "id": "4f71dbdc",
   "metadata": {},
   "outputs": [
    {
     "name": "stderr",
     "output_type": "stream",
     "text": [
      "C:\\ProgramData\\Anaconda3\\lib\\site-packages\\pandas\\core\\arraylike.py:397: RuntimeWarning: divide by zero encountered in log\n",
      "  result = getattr(ufunc, method)(*inputs, **kwargs)\n"
     ]
    },
    {
     "data": {
      "text/html": [
       "<div>\n",
       "<style scoped>\n",
       "    .dataframe tbody tr th:only-of-type {\n",
       "        vertical-align: middle;\n",
       "    }\n",
       "\n",
       "    .dataframe tbody tr th {\n",
       "        vertical-align: top;\n",
       "    }\n",
       "\n",
       "    .dataframe thead th {\n",
       "        text-align: right;\n",
       "    }\n",
       "</style>\n",
       "<table border=\"1\" class=\"dataframe\">\n",
       "  <thead>\n",
       "    <tr style=\"text-align: right;\">\n",
       "      <th></th>\n",
       "      <th>count</th>\n",
       "      <th>mean</th>\n",
       "      <th>std</th>\n",
       "      <th>min</th>\n",
       "      <th>25%</th>\n",
       "      <th>50%</th>\n",
       "      <th>75%</th>\n",
       "      <th>max</th>\n",
       "    </tr>\n",
       "  </thead>\n",
       "  <tbody>\n",
       "    <tr>\n",
       "      <th>Age</th>\n",
       "      <td>324.0</td>\n",
       "      <td>37.382716</td>\n",
       "      <td>7.185844</td>\n",
       "      <td>23.000000</td>\n",
       "      <td>31.000000</td>\n",
       "      <td>36.500000</td>\n",
       "      <td>44.000000</td>\n",
       "      <td>53.000000</td>\n",
       "    </tr>\n",
       "    <tr>\n",
       "      <th>Gender</th>\n",
       "      <td>324.0</td>\n",
       "      <td>0.475309</td>\n",
       "      <td>0.500162</td>\n",
       "      <td>0.000000</td>\n",
       "      <td>0.000000</td>\n",
       "      <td>0.000000</td>\n",
       "      <td>1.000000</td>\n",
       "      <td>1.000000</td>\n",
       "    </tr>\n",
       "    <tr>\n",
       "      <th>EducationLevel</th>\n",
       "      <td>324.0</td>\n",
       "      <td>0.540123</td>\n",
       "      <td>0.713597</td>\n",
       "      <td>0.000000</td>\n",
       "      <td>0.000000</td>\n",
       "      <td>0.000000</td>\n",
       "      <td>1.000000</td>\n",
       "      <td>2.000000</td>\n",
       "    </tr>\n",
       "    <tr>\n",
       "      <th>YearsOfExperience</th>\n",
       "      <td>324.0</td>\n",
       "      <td>10.058642</td>\n",
       "      <td>6.650470</td>\n",
       "      <td>0.000000</td>\n",
       "      <td>4.000000</td>\n",
       "      <td>9.000000</td>\n",
       "      <td>16.000000</td>\n",
       "      <td>25.000000</td>\n",
       "    </tr>\n",
       "    <tr>\n",
       "      <th>Salary</th>\n",
       "      <td>324.0</td>\n",
       "      <td>99985.648148</td>\n",
       "      <td>48652.271440</td>\n",
       "      <td>350.000000</td>\n",
       "      <td>55000.000000</td>\n",
       "      <td>95000.000000</td>\n",
       "      <td>140000.000000</td>\n",
       "      <td>250000.000000</td>\n",
       "    </tr>\n",
       "    <tr>\n",
       "      <th>logYOE</th>\n",
       "      <td>324.0</td>\n",
       "      <td>2.005576</td>\n",
       "      <td>0.874208</td>\n",
       "      <td>-0.693147</td>\n",
       "      <td>1.386294</td>\n",
       "      <td>2.197225</td>\n",
       "      <td>2.772589</td>\n",
       "      <td>3.218876</td>\n",
       "    </tr>\n",
       "  </tbody>\n",
       "</table>\n",
       "</div>"
      ],
      "text/plain": [
       "                   count          mean           std         min  \\\n",
       "Age                324.0     37.382716      7.185844   23.000000   \n",
       "Gender             324.0      0.475309      0.500162    0.000000   \n",
       "EducationLevel     324.0      0.540123      0.713597    0.000000   \n",
       "YearsOfExperience  324.0     10.058642      6.650470    0.000000   \n",
       "Salary             324.0  99985.648148  48652.271440  350.000000   \n",
       "logYOE             324.0      2.005576      0.874208   -0.693147   \n",
       "\n",
       "                            25%           50%            75%            max  \n",
       "Age                   31.000000     36.500000      44.000000      53.000000  \n",
       "Gender                 0.000000      0.000000       1.000000       1.000000  \n",
       "EducationLevel         0.000000      0.000000       1.000000       2.000000  \n",
       "YearsOfExperience      4.000000      9.000000      16.000000      25.000000  \n",
       "Salary             55000.000000  95000.000000  140000.000000  250000.000000  \n",
       "logYOE                 1.386294      2.197225       2.772589       3.218876  "
      ]
     },
     "execution_count": 41,
     "metadata": {},
     "output_type": "execute_result"
    }
   ],
   "source": [
    "# Fit Linear Regression with Log Transform on Weight Variable\n",
    "df_salary[\"logYOE\"] = np.log(df_salary[\"YearsOfExperience\"])\n",
    "df_salary.loc[df_salary[\"YearsOfExperience\"] == 0, \"logYOE\"] = 0\n",
    "df_salary.describe().transpose()"
   ]
  },
  {
   "cell_type": "code",
   "execution_count": 42,
   "id": "8f1d8638",
   "metadata": {},
   "outputs": [
    {
     "data": {
      "text/plain": [
       "0.7656239539695425"
      ]
     },
     "execution_count": 42,
     "metadata": {},
     "output_type": "execute_result"
    }
   ],
   "source": [
    "# Create OLS\n",
    "model = smf.ols(\"Salary ~ logYOE\", df_salary)\n",
    "results_logtransform = model.fit()\n",
    "results_salary_log = print_coef_std_err(results_logtransform)\n",
    "results_logtransform.rsquared"
   ]
  },
  {
   "cell_type": "code",
   "execution_count": 43,
   "id": "88270c3e",
   "metadata": {},
   "outputs": [
    {
     "data": {
      "text/html": [
       "<div>\n",
       "<style scoped>\n",
       "    .dataframe tbody tr th:only-of-type {\n",
       "        vertical-align: middle;\n",
       "    }\n",
       "\n",
       "    .dataframe tbody tr th {\n",
       "        vertical-align: top;\n",
       "    }\n",
       "\n",
       "    .dataframe thead th {\n",
       "        text-align: right;\n",
       "    }\n",
       "</style>\n",
       "<table border=\"1\" class=\"dataframe\">\n",
       "  <thead>\n",
       "    <tr style=\"text-align: right;\">\n",
       "      <th></th>\n",
       "      <th>Age</th>\n",
       "      <th>Gender</th>\n",
       "      <th>EducationLevel</th>\n",
       "      <th>YearsOfExperience</th>\n",
       "      <th>Salary</th>\n",
       "    </tr>\n",
       "  </thead>\n",
       "  <tbody>\n",
       "    <tr>\n",
       "      <th>0</th>\n",
       "      <td>32.0</td>\n",
       "      <td>0</td>\n",
       "      <td>0</td>\n",
       "      <td>5.0</td>\n",
       "      <td>90000.0</td>\n",
       "    </tr>\n",
       "    <tr>\n",
       "      <th>1</th>\n",
       "      <td>28.0</td>\n",
       "      <td>1</td>\n",
       "      <td>1</td>\n",
       "      <td>3.0</td>\n",
       "      <td>65000.0</td>\n",
       "    </tr>\n",
       "    <tr>\n",
       "      <th>2</th>\n",
       "      <td>45.0</td>\n",
       "      <td>0</td>\n",
       "      <td>2</td>\n",
       "      <td>15.0</td>\n",
       "      <td>150000.0</td>\n",
       "    </tr>\n",
       "    <tr>\n",
       "      <th>3</th>\n",
       "      <td>36.0</td>\n",
       "      <td>1</td>\n",
       "      <td>0</td>\n",
       "      <td>7.0</td>\n",
       "      <td>60000.0</td>\n",
       "    </tr>\n",
       "    <tr>\n",
       "      <th>4</th>\n",
       "      <td>52.0</td>\n",
       "      <td>0</td>\n",
       "      <td>1</td>\n",
       "      <td>20.0</td>\n",
       "      <td>200000.0</td>\n",
       "    </tr>\n",
       "  </tbody>\n",
       "</table>\n",
       "</div>"
      ],
      "text/plain": [
       "    Age  Gender  EducationLevel  YearsOfExperience    Salary\n",
       "0  32.0       0               0                5.0   90000.0\n",
       "1  28.0       1               1                3.0   65000.0\n",
       "2  45.0       0               2               15.0  150000.0\n",
       "3  36.0       1               0                7.0   60000.0\n",
       "4  52.0       0               1               20.0  200000.0"
      ]
     },
     "execution_count": 43,
     "metadata": {},
     "output_type": "execute_result"
    }
   ],
   "source": [
    "# Multiple Predictors Modelling\n",
    "df_salary.drop(\"logYOE\", axis=1, inplace=True)\n",
    "df_salary.head()"
   ]
  },
  {
   "cell_type": "code",
   "execution_count": 44,
   "id": "36ef51f0",
   "metadata": {},
   "outputs": [],
   "source": [
    "class StatsmodelsRegressor(BaseEstimator, RegressorMixin):\n",
    "    \"\"\" A universal sklearn-style wrapper for statsmodels regressors \"\"\"\n",
    "    \n",
    "    def __init__(self, sm_class, sm_formula):\n",
    "        self.sm_class = sm_class\n",
    "        self.sm_formula = sm_formula\n",
    "        self.model = None\n",
    "        self.result = None\n",
    " \n",
    "    def fit(self, data, dummy):\n",
    "        self.model = self.sm_class(self.sm_formula, data)\n",
    "        self.result = self.model.fit()\n",
    " \n",
    "    def predict(self,X):\n",
    "        return self.result.predict(X)\n",
    "\n",
    "def kfold_split(data, n_fold):\n",
    "    \"\"\"\n",
    "    Function to combine estimated coefficients and standard error in one DataFrame\n",
    "    :param data: <pandas DataFrame> \n",
    "    :param n_fold: <int> Number of fold in k-fold CV\n",
    "    :return fold_train: <pandas DataFrame> Training Data\n",
    "    :return fold_test: <pandas DataFrame> Testing Data\n",
    "    \"\"\"\n",
    "    kfold = KFold(n_splits = n_fold, shuffle = True, random_state=123)\n",
    "    fold_train = {}\n",
    "    fold_test = {}\n",
    "\n",
    "    for i, (train, test) in enumerate(kfold.split(data)):\n",
    "        print(f\"fold {i+1}, train data rows: {len(train)}, test data rows: {len(test)}\")\n",
    "        fold_train[i] = data.iloc[train].copy()\n",
    "        fold_test[i] = data.iloc[test].copy()\n",
    "        \n",
    "    return (fold_train, fold_test)"
   ]
  },
  {
   "cell_type": "code",
   "execution_count": 45,
   "id": "e7eeaa23",
   "metadata": {},
   "outputs": [
    {
     "data": {
      "text/html": [
       "<div>\n",
       "<style scoped>\n",
       "    .dataframe tbody tr th:only-of-type {\n",
       "        vertical-align: middle;\n",
       "    }\n",
       "\n",
       "    .dataframe tbody tr th {\n",
       "        vertical-align: top;\n",
       "    }\n",
       "\n",
       "    .dataframe thead th {\n",
       "        text-align: right;\n",
       "    }\n",
       "</style>\n",
       "<table border=\"1\" class=\"dataframe\">\n",
       "  <thead>\n",
       "    <tr style=\"text-align: right;\">\n",
       "      <th></th>\n",
       "      <th>test_rsquared</th>\n",
       "      <th>folds</th>\n",
       "    </tr>\n",
       "  </thead>\n",
       "  <tbody>\n",
       "    <tr>\n",
       "      <th>0</th>\n",
       "      <td>0.892141</td>\n",
       "      <td>Folds 1</td>\n",
       "    </tr>\n",
       "    <tr>\n",
       "      <th>1</th>\n",
       "      <td>0.902729</td>\n",
       "      <td>Folds 2</td>\n",
       "    </tr>\n",
       "    <tr>\n",
       "      <th>2</th>\n",
       "      <td>0.912515</td>\n",
       "      <td>Folds 3</td>\n",
       "    </tr>\n",
       "    <tr>\n",
       "      <th>3</th>\n",
       "      <td>0.825113</td>\n",
       "      <td>Folds 4</td>\n",
       "    </tr>\n",
       "    <tr>\n",
       "      <th>4</th>\n",
       "      <td>0.897267</td>\n",
       "      <td>Folds 5</td>\n",
       "    </tr>\n",
       "  </tbody>\n",
       "</table>\n",
       "</div>"
      ],
      "text/plain": [
       "   test_rsquared    folds\n",
       "0       0.892141  Folds 1\n",
       "1       0.902729  Folds 2\n",
       "2       0.912515  Folds 3\n",
       "3       0.825113  Folds 4\n",
       "4       0.897267  Folds 5"
      ]
     },
     "execution_count": 45,
     "metadata": {},
     "output_type": "execute_result"
    }
   ],
   "source": [
    "#Evaluate a model using K-fold cross validation\n",
    "# Create a class model\n",
    "ols_all_pred = StatsmodelsRegressor(\n",
    "    smf.ols, \"Salary ~ Age + Gender + C(EducationLevel) + YearsOfExperience + Age:YearsOfExperience\")\n",
    "\n",
    "# Create k-fold splitter object\n",
    "kfold = KFold(n_splits=5, shuffle = True, random_state=123)\n",
    "scores_ols_all_pred = cross_val_score(\n",
    "    estimator = ols_all_pred, X = df_salary, y = df_salary[\"Salary\"], cv = kfold,scoring = \"r2\")\n",
    "scores_ols_all_pred = pd.DataFrame(data = scores_ols_all_pred, columns=[\"test_rsquared\"])\n",
    "scores_ols_all_pred[\"folds\"] = [f\"Folds {i+1}\" for i in range(5)]\n",
    "scores_ols_all_pred"
   ]
  },
  {
   "cell_type": "code",
   "execution_count": 46,
   "id": "f20ce629",
   "metadata": {},
   "outputs": [
    {
     "data": {
      "text/plain": [
       "0.8859529642576718"
      ]
     },
     "execution_count": 46,
     "metadata": {},
     "output_type": "execute_result"
    }
   ],
   "source": [
    "scores_ols_all_pred[\"test_rsquared\"].mean()"
   ]
  },
  {
   "cell_type": "code",
   "execution_count": 47,
   "id": "c35e5a74",
   "metadata": {},
   "outputs": [
    {
     "data": {
      "text/html": [
       "<div>\n",
       "<style scoped>\n",
       "    .dataframe tbody tr th:only-of-type {\n",
       "        vertical-align: middle;\n",
       "    }\n",
       "\n",
       "    .dataframe tbody tr th {\n",
       "        vertical-align: top;\n",
       "    }\n",
       "\n",
       "    .dataframe thead th {\n",
       "        text-align: right;\n",
       "    }\n",
       "</style>\n",
       "<table border=\"1\" class=\"dataframe\">\n",
       "  <thead>\n",
       "    <tr style=\"text-align: right;\">\n",
       "      <th></th>\n",
       "      <th>coef</th>\n",
       "      <th>std err</th>\n",
       "    </tr>\n",
       "  </thead>\n",
       "  <tbody>\n",
       "    <tr>\n",
       "      <th>Intercept</th>\n",
       "      <td>-44159.185552</td>\n",
       "      <td>16580.736611</td>\n",
       "    </tr>\n",
       "    <tr>\n",
       "      <th>C(EducationLevel)[T.1]</th>\n",
       "      <td>19574.074815</td>\n",
       "      <td>2257.344892</td>\n",
       "    </tr>\n",
       "    <tr>\n",
       "      <th>C(EducationLevel)[T.2]</th>\n",
       "      <td>26339.473807</td>\n",
       "      <td>3160.610738</td>\n",
       "    </tr>\n",
       "    <tr>\n",
       "      <th>Age</th>\n",
       "      <td>3042.039143</td>\n",
       "      <td>611.919060</td>\n",
       "    </tr>\n",
       "    <tr>\n",
       "      <th>Gender</th>\n",
       "      <td>-9310.571777</td>\n",
       "      <td>1766.475849</td>\n",
       "    </tr>\n",
       "    <tr>\n",
       "      <th>YearsOfExperience</th>\n",
       "      <td>2433.641886</td>\n",
       "      <td>1211.995905</td>\n",
       "    </tr>\n",
       "    <tr>\n",
       "      <th>Age:YearsOfExperience</th>\n",
       "      <td>3.452762</td>\n",
       "      <td>21.044653</td>\n",
       "    </tr>\n",
       "  </tbody>\n",
       "</table>\n",
       "</div>"
      ],
      "text/plain": [
       "                                coef       std err\n",
       "Intercept              -44159.185552  16580.736611\n",
       "C(EducationLevel)[T.1]  19574.074815   2257.344892\n",
       "C(EducationLevel)[T.2]  26339.473807   3160.610738\n",
       "Age                      3042.039143    611.919060\n",
       "Gender                  -9310.571777   1766.475849\n",
       "YearsOfExperience        2433.641886   1211.995905\n",
       "Age:YearsOfExperience       3.452762     21.044653"
      ]
     },
     "execution_count": 47,
     "metadata": {},
     "output_type": "execute_result"
    }
   ],
   "source": [
    "# Fit Linear Regression Using All Predictors\n",
    "# Create OLS model\n",
    "model = smf.ols(\"Salary ~ Age + Gender + C(EducationLevel) + YearsOfExperience + Age:YearsOfExperience\", df_salary)\n",
    "results_model_salary = model.fit()\n",
    "results_salary = print_coef_std_err(results_model_salary)\n",
    "results_salary"
   ]
  },
  {
   "cell_type": "code",
   "execution_count": 48,
   "id": "53a1221d",
   "metadata": {},
   "outputs": [
    {
     "data": {
      "text/html": [
       "<div>\n",
       "<style scoped>\n",
       "    .dataframe tbody tr th:only-of-type {\n",
       "        vertical-align: middle;\n",
       "    }\n",
       "\n",
       "    .dataframe tbody tr th {\n",
       "        vertical-align: top;\n",
       "    }\n",
       "\n",
       "    .dataframe thead th {\n",
       "        text-align: right;\n",
       "    }\n",
       "</style>\n",
       "<table border=\"1\" class=\"dataframe\">\n",
       "  <thead>\n",
       "    <tr style=\"text-align: right;\">\n",
       "      <th></th>\n",
       "      <th>AgeCentered</th>\n",
       "      <th>Gender</th>\n",
       "      <th>EducationLevel</th>\n",
       "      <th>YearsOfExperience</th>\n",
       "      <th>Salary</th>\n",
       "    </tr>\n",
       "  </thead>\n",
       "  <tbody>\n",
       "    <tr>\n",
       "      <th>0</th>\n",
       "      <td>-5.0</td>\n",
       "      <td>0</td>\n",
       "      <td>0</td>\n",
       "      <td>5.0</td>\n",
       "      <td>90000.0</td>\n",
       "    </tr>\n",
       "    <tr>\n",
       "      <th>1</th>\n",
       "      <td>-9.0</td>\n",
       "      <td>1</td>\n",
       "      <td>1</td>\n",
       "      <td>3.0</td>\n",
       "      <td>65000.0</td>\n",
       "    </tr>\n",
       "    <tr>\n",
       "      <th>2</th>\n",
       "      <td>8.0</td>\n",
       "      <td>0</td>\n",
       "      <td>2</td>\n",
       "      <td>15.0</td>\n",
       "      <td>150000.0</td>\n",
       "    </tr>\n",
       "    <tr>\n",
       "      <th>3</th>\n",
       "      <td>-1.0</td>\n",
       "      <td>1</td>\n",
       "      <td>0</td>\n",
       "      <td>7.0</td>\n",
       "      <td>60000.0</td>\n",
       "    </tr>\n",
       "    <tr>\n",
       "      <th>4</th>\n",
       "      <td>15.0</td>\n",
       "      <td>0</td>\n",
       "      <td>1</td>\n",
       "      <td>20.0</td>\n",
       "      <td>200000.0</td>\n",
       "    </tr>\n",
       "  </tbody>\n",
       "</table>\n",
       "</div>"
      ],
      "text/plain": [
       "   AgeCentered  Gender  EducationLevel  YearsOfExperience    Salary\n",
       "0         -5.0       0               0                5.0   90000.0\n",
       "1         -9.0       1               1                3.0   65000.0\n",
       "2          8.0       0               2               15.0  150000.0\n",
       "3         -1.0       1               0                7.0   60000.0\n",
       "4         15.0       0               1               20.0  200000.0"
      ]
     },
     "execution_count": 48,
     "metadata": {},
     "output_type": "execute_result"
    }
   ],
   "source": [
    "# Centering Predictor Age\n",
    "mean_age = df_salary[\"Age\"].mean()\n",
    "mean_age = np.round(mean_age,0)\n",
    "mean_age\n",
    "\n",
    "df_salary[\"Age\"] = df_salary[\"Age\"]-mean_age\n",
    "df_salary.rename(columns = {\"Age\":\"AgeCentered\"}, inplace=True)\n",
    "df_salary.head()"
   ]
  },
  {
   "cell_type": "code",
   "execution_count": 49,
   "id": "da5ba357",
   "metadata": {},
   "outputs": [
    {
     "data": {
      "text/html": [
       "<div>\n",
       "<style scoped>\n",
       "    .dataframe tbody tr th:only-of-type {\n",
       "        vertical-align: middle;\n",
       "    }\n",
       "\n",
       "    .dataframe tbody tr th {\n",
       "        vertical-align: top;\n",
       "    }\n",
       "\n",
       "    .dataframe thead th {\n",
       "        text-align: right;\n",
       "    }\n",
       "</style>\n",
       "<table border=\"1\" class=\"dataframe\">\n",
       "  <thead>\n",
       "    <tr style=\"text-align: right;\">\n",
       "      <th></th>\n",
       "      <th>test_rsquared</th>\n",
       "      <th>folds</th>\n",
       "    </tr>\n",
       "  </thead>\n",
       "  <tbody>\n",
       "    <tr>\n",
       "      <th>0</th>\n",
       "      <td>0.849681</td>\n",
       "      <td>Folds 1</td>\n",
       "    </tr>\n",
       "    <tr>\n",
       "      <th>1</th>\n",
       "      <td>0.907836</td>\n",
       "      <td>Folds 2</td>\n",
       "    </tr>\n",
       "    <tr>\n",
       "      <th>2</th>\n",
       "      <td>0.873470</td>\n",
       "      <td>Folds 3</td>\n",
       "    </tr>\n",
       "    <tr>\n",
       "      <th>3</th>\n",
       "      <td>0.938117</td>\n",
       "      <td>Folds 4</td>\n",
       "    </tr>\n",
       "    <tr>\n",
       "      <th>4</th>\n",
       "      <td>0.881399</td>\n",
       "      <td>Folds 5</td>\n",
       "    </tr>\n",
       "  </tbody>\n",
       "</table>\n",
       "</div>"
      ],
      "text/plain": [
       "   test_rsquared    folds\n",
       "0       0.849681  Folds 1\n",
       "1       0.907836  Folds 2\n",
       "2       0.873470  Folds 3\n",
       "3       0.938117  Folds 4\n",
       "4       0.881399  Folds 5"
      ]
     },
     "execution_count": 49,
     "metadata": {},
     "output_type": "execute_result"
    }
   ],
   "source": [
    "# Create a class model\n",
    "ols_all_pred = StatsmodelsRegressor(\n",
    "    smf.ols, \"Salary ~ AgeCentered + Gender + C(EducationLevel) + YearsOfExperience + AgeCentered:YearsOfExperience\")\n",
    "\n",
    "# Create k-fold splitter\n",
    "kfold = KFold(n_splits=5, shuffle = True, random_state=12)\n",
    "scores_ols_all_pred = cross_val_score(\n",
    "    estimator = ols_all_pred, X = df_salary, y = df_salary[\"Salary\"], cv = kfold, scoring = \"r2\")\n",
    "scores_ols_all_pred = pd.DataFrame(data = scores_ols_all_pred, columns=[\"test_rsquared\"])\n",
    "scores_ols_all_pred[\"folds\"] = [f\"Folds {i+1}\" for i in range(5)]\n",
    "scores_ols_all_pred"
   ]
  },
  {
   "cell_type": "code",
   "execution_count": 50,
   "id": "97d5f001",
   "metadata": {},
   "outputs": [
    {
     "data": {
      "text/plain": [
       "0.8901007028969221"
      ]
     },
     "execution_count": 50,
     "metadata": {},
     "output_type": "execute_result"
    }
   ],
   "source": [
    "scores_ols_all_pred[\"test_rsquared\"].mean()\n",
    "#Model yang digunakan semua media memiliki kecocokan yang baik\n",
    "#Dapat menjelaskan 89% varians gaji."
   ]
  },
  {
   "cell_type": "code",
   "execution_count": 51,
   "id": "4da48ee7",
   "metadata": {},
   "outputs": [
    {
     "data": {
      "text/html": [
       "<div>\n",
       "<style scoped>\n",
       "    .dataframe tbody tr th:only-of-type {\n",
       "        vertical-align: middle;\n",
       "    }\n",
       "\n",
       "    .dataframe tbody tr th {\n",
       "        vertical-align: top;\n",
       "    }\n",
       "\n",
       "    .dataframe thead th {\n",
       "        text-align: right;\n",
       "    }\n",
       "</style>\n",
       "<table border=\"1\" class=\"dataframe\">\n",
       "  <thead>\n",
       "    <tr style=\"text-align: right;\">\n",
       "      <th></th>\n",
       "      <th>coef</th>\n",
       "      <th>std err</th>\n",
       "    </tr>\n",
       "  </thead>\n",
       "  <tbody>\n",
       "    <tr>\n",
       "      <th>Intercept</th>\n",
       "      <td>68396.262743</td>\n",
       "      <td>6722.803498</td>\n",
       "    </tr>\n",
       "    <tr>\n",
       "      <th>C(EducationLevel)[T.1]</th>\n",
       "      <td>19574.074815</td>\n",
       "      <td>2257.344892</td>\n",
       "    </tr>\n",
       "    <tr>\n",
       "      <th>C(EducationLevel)[T.2]</th>\n",
       "      <td>26339.473807</td>\n",
       "      <td>3160.610738</td>\n",
       "    </tr>\n",
       "    <tr>\n",
       "      <th>AgeCentered</th>\n",
       "      <td>3042.039143</td>\n",
       "      <td>611.919060</td>\n",
       "    </tr>\n",
       "    <tr>\n",
       "      <th>Gender</th>\n",
       "      <td>-9310.571777</td>\n",
       "      <td>1766.475849</td>\n",
       "    </tr>\n",
       "    <tr>\n",
       "      <th>YearsOfExperience</th>\n",
       "      <td>2561.394070</td>\n",
       "      <td>714.405923</td>\n",
       "    </tr>\n",
       "    <tr>\n",
       "      <th>AgeCentered:YearsOfExperience</th>\n",
       "      <td>3.452762</td>\n",
       "      <td>21.044653</td>\n",
       "    </tr>\n",
       "  </tbody>\n",
       "</table>\n",
       "</div>"
      ],
      "text/plain": [
       "                                       coef      std err\n",
       "Intercept                      68396.262743  6722.803498\n",
       "C(EducationLevel)[T.1]         19574.074815  2257.344892\n",
       "C(EducationLevel)[T.2]         26339.473807  3160.610738\n",
       "AgeCentered                     3042.039143   611.919060\n",
       "Gender                         -9310.571777  1766.475849\n",
       "YearsOfExperience               2561.394070   714.405923\n",
       "AgeCentered:YearsOfExperience      3.452762    21.044653"
      ]
     },
     "execution_count": 51,
     "metadata": {},
     "output_type": "execute_result"
    }
   ],
   "source": [
    "# Create OLS model\n",
    "model = smf.ols(\n",
    "    'Salary ~ AgeCentered + Gender + C(EducationLevel) + YearsOfExperience + AgeCentered:YearsOfExperience', df_salary)\n",
    "results = model.fit()\n",
    "results_salary = print_coef_std_err(results)\n",
    "results_salary"
   ]
  },
  {
   "cell_type": "code",
   "execution_count": 52,
   "id": "337699e4",
   "metadata": {},
   "outputs": [],
   "source": [
    "# Gaji Bachelor = 68396+3042 ×(Age - 37)−9311×Gender+2561×YearsOfExperience+3×(Age - 37)×YearsOfExperience\n",
    "# Gaji Master = 68396+19574+3042×(Age - 37)−9311×Gender+2561×YearsOfExperience+3×(Age - 37)×YearsOfExperience\n",
    "# Gaji PhD = 68396+26339+3042×(Age - 37)−9311×Gender+2561×YearsOfExperience+3×(Age - 37)×YearsOfExperience\n",
    "# Penjelasan terdapat di laporan medium"
   ]
  },
  {
   "cell_type": "code",
   "execution_count": 53,
   "id": "fdd96fb8",
   "metadata": {},
   "outputs": [
    {
     "data": {
      "image/png": "[encoded data removed]",
      "text/plain": [
       "<Figure size 640x480 with 1 Axes>"
      ]
     },
     "metadata": {},
     "output_type": "display_data"
    }
   ],
   "source": [
    "# Residual Plot and Explained Variance\n",
    "plt.scatter(results.fittedvalues, results.resid, marker=\".\", c = \"k\")\n",
    "plt.axhline([0])\n",
    "plt.xlabel(\"predicted mpg\")\n",
    "plt.ylabel(\"residual\")\n",
    "plt.title(f\"Grafik Residuals vs. Predicted mpg\")\n",
    "plt.show()"
   ]
  },
  {
   "cell_type": "code",
   "execution_count": 54,
   "id": "c6537f47",
   "metadata": {},
   "outputs": [
    {
     "data": {
      "image/png": "[encoded data removed]",
      "text/plain": [
       "<Figure size 640x480 with 1 Axes>"
      ]
     },
     "metadata": {},
     "output_type": "display_data"
    }
   ],
   "source": [
    "# Normality of Error Assumption\n",
    "plt.hist(results.resid, color='tab:green', alpha=0.4)\n",
    "plt.xlabel(\"residual\")\n",
    "plt.ylabel(\"count\")\n",
    "plt.show()"
   ]
  },
  {
   "cell_type": "code",
   "execution_count": null,
   "id": "ce774512",
   "metadata": {},
   "outputs": [],
   "source": []
  }
 ],
 "metadata": {
  "kernelspec": {
   "display_name": "Python 3 (ipykernel)",
   "language": "python",
   "name": "python3"
  },
  "language_info": {
   "codemirror_mode": {
    "name": "ipython",
    "version": 3
   },
   "file_extension": ".py",
   "mimetype": "text/x-python",
   "name": "python",
   "nbconvert_exporter": "python",
   "pygments_lexer": "ipython3",
   "version": "3.9.13"
  }
 },
 "nbformat": 4,
 "nbformat_minor": 5
}
